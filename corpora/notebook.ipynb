{
 "cells": [
  {
   "cell_type": "markdown",
   "metadata": {},
   "source": [
    "> Zadanie wykonaj na podstawie tekstów zebranych w woim korpusie\n",
    "\n",
    "> Czas realizacji 2 tygodnie"
   ]
  },
  {
   "cell_type": "markdown",
   "metadata": {},
   "source": [
    "#### Odpowiedź na ponizsze pytania:"
   ]
  },
  {
   "cell_type": "markdown",
   "metadata": {},
   "source": [
    "1. Z jakiego źródła pochodzą twoje teksty"
   ]
  },
  {
   "cell_type": "markdown",
   "metadata": {},
   "source": [
    "2. Jaki rodzaj danych udało Ci się zebrać? Opis dodatkowe etykiety do zebranych tesktów."
   ]
  },
  {
   "cell_type": "markdown",
   "metadata": {},
   "source": [
    "3. Jakie kategorie udało Ci się zebrać?"
   ]
  },
  {
   "cell_type": "markdown",
   "metadata": {},
   "source": [
    "4. Przygotuj wykres częstości występowania słów w Twoim korpusie"
   ]
  },
  {
   "cell_type": "markdown",
   "metadata": {},
   "source": [
    "5. Jak przentują się kategorie w Twoim korpusie: ile mają stanów? czy są zbalansowane?"
   ]
  },
  {
   "cell_type": "markdown",
   "metadata": {},
   "source": [
    "6. Wybierz jedną z kategorii i przygotuj porównanie skuteczności NB dla (W - zorzmiar słownika):\n",
    "- NB wyznaczonej na wyrazach z \\[0,0.15W\\] słownika posotrowanego względem częstości występowania słów - czyli od  \n",
    "- NB wyznaczonej na wyrazach z \\[0.5W,0.15W\\] słownika posotrowanego względem częstości występowania słów"
   ]
  },
  {
   "cell_type": "markdown",
   "metadata": {},
   "source": [
    "7. Sprawdź jak zachowuje się wygładzanie - czy podnosi ono, czy obniża skutecznosć NB?"
   ]
  },
  {
   "cell_type": "markdown",
   "metadata": {},
   "source": [
    "8. Proszę doonać takiego preprocessingu tekstu aby osiągnąć jak najlepszy wynik w NB + optymalizacje z zadania 6 i 7 i własne pomysły."
   ]
  },
  {
   "cell_type": "code",
   "execution_count": null,
   "metadata": {},
   "outputs": [],
   "source": []
  }
 ],
 "metadata": {
  "kernelspec": {
   "display_name": "Python 3",
   "language": "python",
   "name": "python3"
  },
  "language_info": {
   "codemirror_mode": {
    "name": "ipython",
    "version": 3
   },
   "file_extension": ".py",
   "mimetype": "text/x-python",
   "name": "python",
   "nbconvert_exporter": "python",
   "pygments_lexer": "ipython3",
   "version": "3.7.9"
  }
 },
 "nbformat": 4,
 "nbformat_minor": 4
}
